{
  "nbformat": 4,
  "nbformat_minor": 0,
  "metadata": {
    "colab": {
      "provenance": [],
      "authorship_tag": "ABX9TyM9UzXtJNl/8M+MO/8NLVoa",
      "include_colab_link": true
    },
    "kernelspec": {
      "name": "python3",
      "display_name": "Python 3"
    },
    "language_info": {
      "name": "python"
    }
  },
  "cells": [
    {
      "cell_type": "markdown",
      "metadata": {
        "id": "view-in-github",
        "colab_type": "text"
      },
      "source": [
        "<a href=\"https://colab.research.google.com/github/akshattjain/MACHINE_LEARNING/blob/main/numpy.ipynb\" target=\"_parent\"><img src=\"https://colab.research.google.com/assets/colab-badge.svg\" alt=\"Open In Colab\"/></a>"
      ]
    },
    {
      "cell_type": "code",
      "execution_count": null,
      "metadata": {
        "id": "YxtRgpeFkzA6"
      },
      "outputs": [],
      "source": [
        "import numpy  as np"
      ]
    },
    {
      "cell_type": "code",
      "source": [
        "np_array =np.array([1,2,3,4,5])\n",
        "print(np_array)\n",
        "type(np_array )"
      ],
      "metadata": {
        "colab": {
          "base_uri": "https://localhost:8080/"
        },
        "id": "1vo0ek6inUgi",
        "outputId": "73c85615-a3cc-4b1b-ec37-60a963179da2"
      },
      "execution_count": null,
      "outputs": [
        {
          "output_type": "stream",
          "name": "stdout",
          "text": [
            "[1 2 3 4 5]\n"
          ]
        },
        {
          "output_type": "execute_result",
          "data": {
            "text/plain": [
              "numpy.ndarray"
            ]
          },
          "metadata": {},
          "execution_count": 3
        }
      ]
    },
    {
      "cell_type": "code",
      "source": [
        "z=np.full((4,5),6)\n",
        "print (z)"
      ],
      "metadata": {
        "colab": {
          "base_uri": "https://localhost:8080/"
        },
        "id": "DkikgGrQqSXk",
        "outputId": "3f5b0d9d-2828-48cf-b464-cabcac73dad0"
      },
      "execution_count": null,
      "outputs": [
        {
          "output_type": "stream",
          "name": "stdout",
          "text": [
            "[[6 6 6 6 6]\n",
            " [6 6 6 6 6]\n",
            " [6 6 6 6 6]\n",
            " [6 6 6 6 6]]\n"
          ]
        }
      ]
    },
    {
      "cell_type": "code",
      "source": [
        "a=np.eye(5)\n",
        "print(a)"
      ],
      "metadata": {
        "colab": {
          "base_uri": "https://localhost:8080/"
        },
        "id": "E7vD81WqrAqT",
        "outputId": "5e5f4770-6475-4476-88c4-b7bc5e1152a7"
      },
      "execution_count": null,
      "outputs": [
        {
          "output_type": "stream",
          "name": "stdout",
          "text": [
            "[[1. 0. 0. 0. 0.]\n",
            " [0. 1. 0. 0. 0.]\n",
            " [0. 0. 1. 0. 0.]\n",
            " [0. 0. 0. 1. 0.]\n",
            " [0. 0. 0. 0. 1.]]\n"
          ]
        }
      ]
    },
    {
      "cell_type": "markdown",
      "source": [
        "random values\n"
      ],
      "metadata": {
        "id": "-jWA0dSPrY90"
      }
    },
    {
      "cell_type": "code",
      "source": [
        "c=np.random.randint(10,5000,(3,6))\n",
        "print (c)"
      ],
      "metadata": {
        "colab": {
          "base_uri": "https://localhost:8080/"
        },
        "id": "KWhPKTURrUyy",
        "outputId": "66f04e9b-9547-4464-a5d0-173cf3f00a4c"
      },
      "execution_count": null,
      "outputs": [
        {
          "output_type": "stream",
          "name": "stdout",
          "text": [
            "[[4952 3376 3051 3556 1232 2839]\n",
            " [ 889 3890 4808 4154 4991   36]\n",
            " [4443 1485  868 1635 4240 3237]]\n"
          ]
        }
      ]
    },
    {
      "cell_type": "code",
      "source": [
        "ab=c.reshape(6,3)\n",
        "print (ab)"
      ],
      "metadata": {
        "id": "b9nT4QASr3-D",
        "colab": {
          "base_uri": "https://localhost:8080/"
        },
        "outputId": "b02bc3c1-96b8-45d0-c6e8-da7417c6e084"
      },
      "execution_count": null,
      "outputs": [
        {
          "output_type": "stream",
          "name": "stdout",
          "text": [
            "[[4952 3376 3051]\n",
            " [3556 1232 2839]\n",
            " [ 889 3890 4808]\n",
            " [4154 4991   36]\n",
            " [4443 1485  868]\n",
            " [1635 4240 3237]]\n"
          ]
        }
      ]
    }
  ]
}
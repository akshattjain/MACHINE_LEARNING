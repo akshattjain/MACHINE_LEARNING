{
  "nbformat": 4,
  "nbformat_minor": 0,
  "metadata": {
    "colab": {
      "provenance": []
    },
    "kernelspec": {
      "name": "python3",
      "display_name": "Python 3"
    },
    "language_info": {
      "name": "python"
    }
  },
  "cells": [
    {
      "cell_type": "code",
      "execution_count": 1,
      "metadata": {
        "id": "BDnOKb72Ok3I"
      },
      "outputs": [],
      "source": [
        "import math"
      ]
    },
    {
      "cell_type": "markdown",
      "source": [
        "Sigmoid Activation Function:"
      ],
      "metadata": {
        "id": "oiVEXD-JOreK"
      }
    },
    {
      "cell_type": "markdown",
      "source": [
        "![image.png](data:image/png;base64,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)"
      ],
      "metadata": {
        "id": "MlOZiLrYOuic"
      }
    },
    {
      "cell_type": "code",
      "source": [
        "def sigmoid(x):\n",
        "  return 1 / (1 + math.exp(-x))"
      ],
      "metadata": {
        "id": "NeCNaqlGOqoP"
      },
      "execution_count": 2,
      "outputs": []
    },
    {
      "cell_type": "code",
      "source": [
        "sigmoid_op = sigmoid(100)\n",
        "print(sigmoid_op)"
      ],
      "metadata": {
        "colab": {
          "base_uri": "https://localhost:8080/"
        },
        "id": "ZW_Lnn3nO0gv",
        "outputId": "b03bb7a8-5898-4564-ace9-2170800cefea"
      },
      "execution_count": 3,
      "outputs": [
        {
          "output_type": "stream",
          "name": "stdout",
          "text": [
            "1.0\n"
          ]
        }
      ]
    },
    {
      "cell_type": "markdown",
      "source": [
        "ReLU Activation Function"
      ],
      "metadata": {
        "id": "p3-IdO6FO4Pi"
      }
    },
    {
      "cell_type": "markdown",
      "source": [
        "![image.png](data:image/png;base64,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)"
      ],
      "metadata": {
        "id": "oVKLZifaO5QA"
      }
    },
    {
      "cell_type": "code",
      "source": [
        "def relu(x):\n",
        "  return x if x>0 else 0"
      ],
      "metadata": {
        "id": "JDzYp9j8O2L-"
      },
      "execution_count": 4,
      "outputs": []
    },
    {
      "cell_type": "code",
      "source": [
        "relu_output = relu(-20)\n",
        "print(relu_output)"
      ],
      "metadata": {
        "colab": {
          "base_uri": "https://localhost:8080/"
        },
        "id": "e5j8UAcRO_HQ",
        "outputId": "d442f149-87b1-4373-d999-13a34b611911"
      },
      "execution_count": 5,
      "outputs": [
        {
          "output_type": "stream",
          "name": "stdout",
          "text": [
            "0\n"
          ]
        }
      ]
    },
    {
      "cell_type": "markdown",
      "source": [
        "tanh Activation Function"
      ],
      "metadata": {
        "id": "DYRfali7PCpY"
      }
    },
    {
      "cell_type": "markdown",
      "source": [
        "![image.png](data:image/png;base64,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)"
      ],
      "metadata": {
        "id": "aImRJ5eOPDko"
      }
    },
    {
      "cell_type": "code",
      "source": [
        "def tanh(x):\n",
        "  return (math.exp(x) - math.exp(-x)) / (math.exp(x) + math.exp(-x))"
      ],
      "metadata": {
        "id": "Y3-3y3-nPAiP"
      },
      "execution_count": 6,
      "outputs": []
    },
    {
      "cell_type": "code",
      "source": [
        "tanh_op = tanh(100)\n",
        "print(tanh_op)"
      ],
      "metadata": {
        "colab": {
          "base_uri": "https://localhost:8080/"
        },
        "id": "pwtj7oQfPH-t",
        "outputId": "44ff51c0-fca1-4bd3-bddb-a8913145ddaa"
      },
      "execution_count": 7,
      "outputs": [
        {
          "output_type": "stream",
          "name": "stdout",
          "text": [
            "1.0\n"
          ]
        }
      ]
    },
    {
      "cell_type": "markdown",
      "source": [
        "Softmax Activation function"
      ],
      "metadata": {
        "id": "QRoCKVrxPLdg"
      }
    },
    {
      "cell_type": "markdown",
      "source": [
        "![image.png](data:image/png;base64,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)"
      ],
      "metadata": {
        "id": "UcWyNzpuPMdO"
      }
    },
    {
      "cell_type": "code",
      "source": [
        "def softmax(x):\n",
        "  # x --> list\n",
        "  exp_x = [math.exp(i) for i in x]\n",
        "  sum_exp_x = sum(exp_x)\n",
        "  # compute softmax for each element in x\n",
        "  return [j / sum_exp_x for j in exp_x]"
      ],
      "metadata": {
        "id": "bCSV3SOyPJre"
      },
      "execution_count": 8,
      "outputs": []
    },
    {
      "cell_type": "code",
      "source": [
        "softmax_op = softmax([2, 1, -1])\n",
        "print(softmax_op)"
      ],
      "metadata": {
        "colab": {
          "base_uri": "https://localhost:8080/"
        },
        "id": "l2QeL46DPP_H",
        "outputId": "82adccdb-da29-4e94-d0fa-3ab152f32656"
      },
      "execution_count": 9,
      "outputs": [
        {
          "output_type": "stream",
          "name": "stdout",
          "text": [
            "[0.7053845126982412, 0.2594964603424191, 0.03511902695933972]\n"
          ]
        }
      ]
    },
    {
      "cell_type": "code",
      "source": [],
      "metadata": {
        "id": "oJNig3hLPRaX"
      },
      "execution_count": null,
      "outputs": []
    }
  ]
}